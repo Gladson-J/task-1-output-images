{
 "cells": [
  {
   "cell_type": "code",
   "execution_count": 1,
   "id": "e832887d",
   "metadata": {},
   "outputs": [],
   "source": [
    "import cv2\n",
    "\n",
    "import numpy as nump"
   ]
  },
  {
   "cell_type": "code",
   "execution_count": 2,
   "id": "fa3c2c7b",
   "metadata": {},
   "outputs": [],
   "source": [
    "img=cv2.imread(\"tiger.png\")"
   ]
  },
  {
   "cell_type": "code",
   "execution_count": 11,
   "id": "52beae41",
   "metadata": {},
   "outputs": [],
   "source": [
    "avg=cv2.blur(img,(5,5))"
   ]
  },
  {
   "cell_type": "code",
   "execution_count": 31,
   "id": "3844545c",
   "metadata": {},
   "outputs": [
    {
     "data": {
      "text/plain": [
       "-1"
      ]
     },
     "execution_count": 31,
     "metadata": {},
     "output_type": "execute_result"
    }
   ],
   "source": [
    "cv2.imshow(\"img\",img)\n",
    "cv2.waitKey(0)\n",
    "cv2.imshow(\"avg\",avg)\n",
    "cv2.waitKey(0)"
   ]
  },
  {
   "cell_type": "code",
   "execution_count": 16,
   "id": "f7b2295e",
   "metadata": {},
   "outputs": [
    {
     "data": {
      "text/plain": [
       "True"
      ]
     },
     "execution_count": 16,
     "metadata": {},
     "output_type": "execute_result"
    }
   ],
   "source": [
    "cv2.imwrite('C:/Users/aedpu/Gladson-cse/avg.jpg',avg)"
   ]
  },
  {
   "cell_type": "code",
   "execution_count": 17,
   "id": "1fdfa59f",
   "metadata": {},
   "outputs": [],
   "source": [
    "gaus=cv2.GaussianBlur(img,(5,5),5)"
   ]
  },
  {
   "cell_type": "code",
   "execution_count": 21,
   "id": "f211e8b6",
   "metadata": {},
   "outputs": [],
   "source": [
    "cv2.imshow(\"gaus\",gaus)\n",
    "cv2.waitKey(0)"
   ]
  },
  {
   "cell_type": "code",
   "execution_count": 20,
   "id": "9fa0286c",
   "metadata": {},
   "outputs": [
    {
     "data": {
      "text/plain": [
       "True"
      ]
     },
     "execution_count": 20,
     "metadata": {},
     "output_type": "execute_result"
    }
   ],
   "source": [
    "cv2.imwrite('C:/Users/aedpu/Gladson-cse/gaussian.jpg',gaus)"
   ]
  },
  {
   "cell_type": "code",
   "execution_count": 16,
   "id": "000efe76",
   "metadata": {},
   "outputs": [],
   "source": [
    "med=cv2.medianBlur(img,5)"
   ]
  },
  {
   "cell_type": "code",
   "execution_count": 17,
   "id": "24f6503d",
   "metadata": {},
   "outputs": [
    {
     "data": {
      "text/plain": [
       "-1"
      ]
     },
     "execution_count": 17,
     "metadata": {},
     "output_type": "execute_result"
    }
   ],
   "source": [
    "cv2.imshow(\"med\",med)\n",
    "cv2.waitKey(0)"
   ]
  },
  {
   "cell_type": "code",
   "execution_count": 35,
   "id": "48d1ee76",
   "metadata": {},
   "outputs": [
    {
     "data": {
      "text/plain": [
       "True"
      ]
     },
     "execution_count": 35,
     "metadata": {},
     "output_type": "execute_result"
    }
   ],
   "source": [
    "cv2.imwrite('C:/Users/aedpu/Gladson-cse/median.jpg',med)"
   ]
  },
  {
   "cell_type": "code",
   "execution_count": 20,
   "id": "df956df8",
   "metadata": {},
   "outputs": [],
   "source": [
    "med2=cv2.imread('median.jpg')"
   ]
  },
  {
   "cell_type": "code",
   "execution_count": 29,
   "id": "8e880ee3",
   "metadata": {},
   "outputs": [],
   "source": [
    "bilat= cv2.bilateralFilter(med2,5,5,10)"
   ]
  },
  {
   "cell_type": "code",
   "execution_count": 30,
   "id": "4aefa01f",
   "metadata": {},
   "outputs": [
    {
     "data": {
      "text/plain": [
       "-1"
      ]
     },
     "execution_count": 30,
     "metadata": {},
     "output_type": "execute_result"
    }
   ],
   "source": [
    "cv2.imshow(\"bilateral\",bilat)\n",
    "cv2.waitKey(0)"
   ]
  },
  {
   "cell_type": "code",
   "execution_count": 31,
   "id": "7c482b71",
   "metadata": {},
   "outputs": [
    {
     "data": {
      "text/plain": [
       "True"
      ]
     },
     "execution_count": 31,
     "metadata": {},
     "output_type": "execute_result"
    }
   ],
   "source": [
    "cv2.imwrite('C:/Users/aedpu/Gladson-cse/bilat.jpg',bilat)"
   ]
  },
  {
   "cell_type": "code",
   "execution_count": null,
   "id": "90e29f60",
   "metadata": {},
   "outputs": [],
   "source": []
  }
 ],
 "metadata": {
  "kernelspec": {
   "display_name": "Python 3 (ipykernel)",
   "language": "python",
   "name": "python3"
  },
  "language_info": {
   "codemirror_mode": {
    "name": "ipython",
    "version": 3
   },
   "file_extension": ".py",
   "mimetype": "text/x-python",
   "name": "python",
   "nbconvert_exporter": "python",
   "pygments_lexer": "ipython3",
   "version": "3.9.16"
  }
 },
 "nbformat": 4,
 "nbformat_minor": 5
}
